{
 "metadata": {
  "language_info": {
   "codemirror_mode": {
    "name": "ipython",
    "version": 3
   },
   "file_extension": ".py",
   "mimetype": "text/x-python",
   "name": "python",
   "nbconvert_exporter": "python",
   "pygments_lexer": "ipython3",
   "version": "3.9.0"
  },
  "orig_nbformat": 4,
  "kernelspec": {
   "name": "python3",
   "display_name": "Python 3.9.0 64-bit"
  },
  "interpreter": {
   "hash": "49fdda9a8f1b43ecf94cbf6adfec0c9149aed4e40f425dad389976f3db3c5b4b"
  }
 },
 "nbformat": 4,
 "nbformat_minor": 2,
 "cells": [
  {
   "cell_type": "code",
   "execution_count": 53,
   "metadata": {},
   "outputs": [
    {
     "output_type": "stream",
     "name": "stdout",
     "text": [
      "<class 'pandas.core.frame.DataFrame'>\nRangeIndex: 5110 entries, 0 to 5109\nData columns (total 12 columns):\n #   Column             Non-Null Count  Dtype  \n---  ------             --------------  -----  \n 0   id                 5110 non-null   int64  \n 1   gender             5110 non-null   object \n 2   age                5110 non-null   float64\n 3   hypertension       5110 non-null   int64  \n 4   heart_disease      5110 non-null   int64  \n 5   ever_married       5110 non-null   object \n 6   work_type          5110 non-null   object \n 7   Residence_type     5110 non-null   object \n 8   avg_glucose_level  5110 non-null   float64\n 9   bmi                4909 non-null   float64\n 10  smoking_status     3566 non-null   object \n 11  stroke             5110 non-null   int64  \ndtypes: float64(3), int64(4), object(5)\nmemory usage: 479.2+ KB\n"
     ]
    }
   ],
   "source": [
    "import pandas as pd\n",
    "import matplotlib.pyplot as plt\n",
    "from sklearn.neighbors import KNeighborsRegressor\n",
    "csv = pd.read_csv(\"healthcare-dataset-stroke-data\\healthcare-dataset-stroke-data.csv\",na_values=\"Unknown\",encoding='utf-8')\n",
    "csv.info()"
   ]
  },
  {
   "cell_type": "code",
   "execution_count": 54,
   "metadata": {},
   "outputs": [
    {
     "output_type": "stream",
     "name": "stdout",
     "text": [
      "0    36.6\n",
      "2    32.5\n",
      "3    34.4\n",
      "4    24.0\n",
      "5    29.0\n",
      "Name: bmi, dtype: float64\n",
      "E:\\Python\\lib\\site-packages\\pandas\\core\\frame.py:4305: SettingWithCopyWarning: \n",
      "A value is trying to be set on a copy of a slice from a DataFrame\n",
      "\n",
      "See the caveats in the documentation: https://pandas.pydata.org/pandas-docs/stable/user_guide/indexing.html#returning-a-view-versus-a-copy\n",
      "  return super().drop(\n"
     ]
    },
    {
     "output_type": "execute_result",
     "data": {
      "text/plain": [
       "   gender   age  hypertension  heart_disease ever_married      work_type  \\\n",
       "0    Male  67.0             0              1          Yes        Private   \n",
       "2    Male  80.0             0              1          Yes        Private   \n",
       "3  Female  49.0             0              0          Yes        Private   \n",
       "4  Female  79.0             1              0          Yes  Self-employed   \n",
       "5    Male  81.0             0              0          Yes        Private   \n",
       "\n",
       "  Residence_type  avg_glucose_level   smoking_status  stroke  \n",
       "0          Urban             228.69  formerly smoked       1  \n",
       "2          Rural             105.92     never smoked       1  \n",
       "3          Urban             171.23           smokes       1  \n",
       "4          Rural             174.12     never smoked       1  \n",
       "5          Urban             186.21  formerly smoked       1  "
      ],
      "text/html": "<div>\n<style scoped>\n    .dataframe tbody tr th:only-of-type {\n        vertical-align: middle;\n    }\n\n    .dataframe tbody tr th {\n        vertical-align: top;\n    }\n\n    .dataframe thead th {\n        text-align: right;\n    }\n</style>\n<table border=\"1\" class=\"dataframe\">\n  <thead>\n    <tr style=\"text-align: right;\">\n      <th></th>\n      <th>gender</th>\n      <th>age</th>\n      <th>hypertension</th>\n      <th>heart_disease</th>\n      <th>ever_married</th>\n      <th>work_type</th>\n      <th>Residence_type</th>\n      <th>avg_glucose_level</th>\n      <th>smoking_status</th>\n      <th>stroke</th>\n    </tr>\n  </thead>\n  <tbody>\n    <tr>\n      <th>0</th>\n      <td>Male</td>\n      <td>67.0</td>\n      <td>0</td>\n      <td>1</td>\n      <td>Yes</td>\n      <td>Private</td>\n      <td>Urban</td>\n      <td>228.69</td>\n      <td>formerly smoked</td>\n      <td>1</td>\n    </tr>\n    <tr>\n      <th>2</th>\n      <td>Male</td>\n      <td>80.0</td>\n      <td>0</td>\n      <td>1</td>\n      <td>Yes</td>\n      <td>Private</td>\n      <td>Rural</td>\n      <td>105.92</td>\n      <td>never smoked</td>\n      <td>1</td>\n    </tr>\n    <tr>\n      <th>3</th>\n      <td>Female</td>\n      <td>49.0</td>\n      <td>0</td>\n      <td>0</td>\n      <td>Yes</td>\n      <td>Private</td>\n      <td>Urban</td>\n      <td>171.23</td>\n      <td>smokes</td>\n      <td>1</td>\n    </tr>\n    <tr>\n      <th>4</th>\n      <td>Female</td>\n      <td>79.0</td>\n      <td>1</td>\n      <td>0</td>\n      <td>Yes</td>\n      <td>Self-employed</td>\n      <td>Rural</td>\n      <td>174.12</td>\n      <td>never smoked</td>\n      <td>1</td>\n    </tr>\n    <tr>\n      <th>5</th>\n      <td>Male</td>\n      <td>81.0</td>\n      <td>0</td>\n      <td>0</td>\n      <td>Yes</td>\n      <td>Private</td>\n      <td>Urban</td>\n      <td>186.21</td>\n      <td>formerly smoked</td>\n      <td>1</td>\n    </tr>\n  </tbody>\n</table>\n</div>"
     },
     "metadata": {},
     "execution_count": 54
    }
   ],
   "source": [
    "import numpy as np\n",
    "from sklearn.linear_model import LinearRegression\n",
    "#exclude bmi from training data and remove ids\n",
    "y_column = csv.loc[csv['bmi'].notna(), \"bmi\"]\n",
    "x_columns = csv[csv['bmi'].notna()]\n",
    "x_columns.drop(axis=1,labels='bmi',inplace=True)\n",
    "x_columns.drop(axis=1,labels='id',inplace=True)\n",
    "csv = csv.drop(labels='id',axis=1)\n",
    "print(y_column.head())\n",
    "x_columns.head()"
   ]
  },
  {
   "cell_type": "code",
   "execution_count": null,
   "metadata": {},
   "outputs": [],
   "source": []
  },
  {
   "cell_type": "code",
   "execution_count": 55,
   "metadata": {},
   "outputs": [
    {
     "output_type": "stream",
     "name": "stdout",
     "text": [
      "<class 'pandas.core.frame.DataFrame'>\nInt64Index: 4909 entries, 0 to 5109\nData columns (total 10 columns):\n #   Column             Non-Null Count  Dtype  \n---  ------             --------------  -----  \n 0   gender             4909 non-null   int32  \n 1   age                4909 non-null   float64\n 2   hypertension       4909 non-null   int64  \n 3   heart_disease      4909 non-null   int64  \n 4   ever_married       4909 non-null   int32  \n 5   work_type          4909 non-null   int32  \n 6   Residence_type     4909 non-null   int32  \n 7   avg_glucose_level  4909 non-null   float64\n 8   smoking_status     4909 non-null   int32  \n 9   stroke             4909 non-null   int64  \ndtypes: float64(2), int32(5), int64(3)\nmemory usage: 326.0 KB\n"
     ]
    }
   ],
   "source": [
    "from sklearn import preprocessing\n",
    "import numpy as np\n",
    "#need to preprocess labels into numbers\n",
    "le = preprocessing.LabelEncoder()\n",
    "x_columns.loc[:,'gender'] = le.fit_transform(x_columns[\"gender\"])\n",
    "x_columns.loc[:,'ever_married'] = le.fit_transform(x_columns[\"ever_married\"])\n",
    "x_columns.loc[:,'work_type'] = le.fit_transform(x_columns[\"work_type\"])\n",
    "x_columns.loc[:,'Residence_type'] = le.fit_transform(x_columns[\"Residence_type\"])\n",
    "x_columns.loc[:,'smoking_status'] = le.fit_transform(x_columns[\"smoking_status\"])\n",
    "x_columns.info()\n",
    "\n",
    "csv.loc[:,'gender'] = le.fit_transform(csv[\"gender\"])\n",
    "csv.loc[:,'ever_married'] = le.fit_transform(csv[\"ever_married\"])\n",
    "csv.loc[:,'work_type'] = le.fit_transform(csv[\"work_type\"])\n",
    "csv.loc[:,'Residence_type'] = le.fit_transform(csv[\"Residence_type\"])\n",
    "csv.loc[:,'smoking_status'] = le.fit_transform(csv[\"smoking_status\"])\n",
    "csv.drop(labels='bmi',axis=1,inplace=True)"
   ]
  },
  {
   "cell_type": "code",
   "execution_count": 56,
   "metadata": {},
   "outputs": [
    {
     "output_type": "execute_result",
     "data": {
      "text/plain": [
       "0.1914729136040998"
      ]
     },
     "metadata": {},
     "execution_count": 56
    }
   ],
   "source": [
    "model = LinearRegression().fit(x_columns,y_column)\n",
    "predictedBmi = model.predict(csv)\n",
    "csv.fillna(value={'bmi':pd.Series(predictedBmi)},inplace=True)\n",
    "model.score(x_columns,y_column)"
   ]
  },
  {
   "cell_type": "code",
   "execution_count": 57,
   "metadata": {},
   "outputs": [],
   "source": [
    "# Use numpy to convert to arrays\n",
    "import numpy as np\n",
    "\n",
    "# Labels are the values we want to predict\n",
    "labels = np.array(csv['stroke'])\n",
    "# Remove the labels from the csv\n",
    "# axis 1 refers to the columns\n",
    "csv= csv.drop('stroke', axis = 1)\n",
    "# Saving feature names for later use\n",
    "feature_list = list(csv.columns)\n",
    "csv.fillna(value={'bmi':pd.Series(predictedBmi)},inplace=True)\n",
    "# Convert to numpy array\n",
    "csv = np.array(csv)"
   ]
  },
  {
   "cell_type": "code",
   "execution_count": 58,
   "metadata": {},
   "outputs": [],
   "source": [
    "# Using Skicit-learn to split data into training and testing sets\n",
    "from sklearn.model_selection import train_test_split\n",
    "# Split the data into training and testing sets\n",
    "train_features, test_features, train_labels, test_labels = train_test_split(csv, labels, test_size = 0.25, random_state = 42)\n"
   ]
  },
  {
   "cell_type": "code",
   "execution_count": 59,
   "metadata": {},
   "outputs": [
    {
     "output_type": "execute_result",
     "data": {
      "text/plain": [
       "RandomForestRegressor(n_estimators=1000, random_state=42)"
      ]
     },
     "metadata": {},
     "execution_count": 59
    }
   ],
   "source": [
    "# Import the model we are using\n",
    "from sklearn.ensemble import RandomForestRegressor\n",
    "# Instantiate model with 1000 decision trees\n",
    "rf = RandomForestRegressor(n_estimators = 1000, random_state = 42)\n",
    "# Train the model on training data\n",
    "rf.fit(train_features, train_labels)"
   ]
  },
  {
   "cell_type": "code",
   "execution_count": 60,
   "metadata": {},
   "outputs": [],
   "source": [
    "# Use the forest's predict method on the test data\n",
    "predictions = rf.predict(test_features)"
   ]
  },
  {
   "cell_type": "code",
   "execution_count": 61,
   "metadata": {},
   "outputs": [
    {
     "output_type": "stream",
     "name": "stdout",
     "text": [
      "[0.96593674 0.06666667]\nAverage precision-recall score: 0.07\n"
     ]
    }
   ],
   "source": [
    "predictions = predictions.round()\n",
    "from sklearn.metrics import f1_score\n",
    "print(f1_score(test_labels, predictions,average=None))\n",
    "from sklearn.metrics import average_precision_score\n",
    "average_precision = average_precision_score(test_labels, predictions)\n",
    "\n",
    "print('Average precision-recall score: {0:0.2f}'.format(\n",
    "      average_precision))"
   ]
  },
  {
   "cell_type": "code",
   "execution_count": null,
   "metadata": {},
   "outputs": [],
   "source": []
  }
 ]
}